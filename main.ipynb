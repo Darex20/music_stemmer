{
 "cells": [
  {
   "cell_type": "code",
   "execution_count": 2,
   "source": [
    "import os\r\n",
    "import yaml\r\n",
    "import soundfile as sf\r\n",
    "import numpy as np\r\n",
    "\r\n",
    "base = 'slakh2100_flac_redux'\r\n",
    "splits = ['validation', 'test']\r\n",
    "for split in splits:\r\n",
    "    split_dir = os.path.join(base, split)\r\n",
    "    for track in os.listdir(split_dir):\r\n",
    "        track_dir = os.path.join(split_dir, track)\r\n",
    "        meta_path = os.path.join(track_dir, 'metadata.yaml')\r\n",
    "        stems_dir = os.path.join(track_dir, 'stems')\r\n",
    "        out_path = os.path.join(track_dir, 'guitar.flac')\r\n",
    "        if not os.path.exists(meta_path):\r\n",
    "            continue\r\n",
    "        with open(meta_path) as f:\r\n",
    "            md = yaml.safe_load(f)\r\n",
    "        guitar_files = [os.path.join(stems_dir, stem_id + '.flac')\r\n",
    "                        for stem_id, stem in md['stems'].items()\r\n",
    "                        if stem.get('inst_class') == 'Guitar' and stem.get('audio_rendered')]\r\n",
    "        if not guitar_files:\r\n",
    "            continue\r\n",
    "        audio_sum = None\r\n",
    "        for fpath in guitar_files:\r\n",
    "            audio, sr = sf.read(fpath, always_2d=True)\r\n",
    "            audio_sum = audio if audio_sum is None else audio_sum + audio\r\n",
    "        sf.write(out_path, audio_sum, sr)"
   ],
   "outputs": [
    {
     "output_type": "error",
     "ename": "FileNotFoundError",
     "evalue": "[WinError 3] The system cannot find the path specified: 'slakh2100_flac_redux\\\\valid'",
     "traceback": [
      "\u001b[1;31m---------------------------------------------------------------------------\u001b[0m",
      "\u001b[1;31mFileNotFoundError\u001b[0m                         Traceback (most recent call last)",
      "\u001b[1;32m~\\AppData\\Local\\Temp/ipykernel_4232/831106903.py\u001b[0m in \u001b[0;36m<module>\u001b[1;34m\u001b[0m\n\u001b[0;32m      9\u001b[0m \u001b[1;32mfor\u001b[0m \u001b[0msplit\u001b[0m \u001b[1;32min\u001b[0m \u001b[0msplits\u001b[0m\u001b[1;33m:\u001b[0m\u001b[1;33m\u001b[0m\u001b[1;33m\u001b[0m\u001b[0m\n\u001b[0;32m     10\u001b[0m     \u001b[0msplit_dir\u001b[0m \u001b[1;33m=\u001b[0m \u001b[0mos\u001b[0m\u001b[1;33m.\u001b[0m\u001b[0mpath\u001b[0m\u001b[1;33m.\u001b[0m\u001b[0mjoin\u001b[0m\u001b[1;33m(\u001b[0m\u001b[0mbase\u001b[0m\u001b[1;33m,\u001b[0m \u001b[0msplit\u001b[0m\u001b[1;33m)\u001b[0m\u001b[1;33m\u001b[0m\u001b[1;33m\u001b[0m\u001b[0m\n\u001b[1;32m---> 11\u001b[1;33m     \u001b[1;32mfor\u001b[0m \u001b[0mtrack\u001b[0m \u001b[1;32min\u001b[0m \u001b[0mos\u001b[0m\u001b[1;33m.\u001b[0m\u001b[0mlistdir\u001b[0m\u001b[1;33m(\u001b[0m\u001b[0msplit_dir\u001b[0m\u001b[1;33m)\u001b[0m\u001b[1;33m:\u001b[0m\u001b[1;33m\u001b[0m\u001b[1;33m\u001b[0m\u001b[0m\n\u001b[0m\u001b[0;32m     12\u001b[0m         \u001b[0mtrack_dir\u001b[0m \u001b[1;33m=\u001b[0m \u001b[0mos\u001b[0m\u001b[1;33m.\u001b[0m\u001b[0mpath\u001b[0m\u001b[1;33m.\u001b[0m\u001b[0mjoin\u001b[0m\u001b[1;33m(\u001b[0m\u001b[0msplit_dir\u001b[0m\u001b[1;33m,\u001b[0m \u001b[0mtrack\u001b[0m\u001b[1;33m)\u001b[0m\u001b[1;33m\u001b[0m\u001b[1;33m\u001b[0m\u001b[0m\n\u001b[0;32m     13\u001b[0m         \u001b[0mmeta_path\u001b[0m \u001b[1;33m=\u001b[0m \u001b[0mos\u001b[0m\u001b[1;33m.\u001b[0m\u001b[0mpath\u001b[0m\u001b[1;33m.\u001b[0m\u001b[0mjoin\u001b[0m\u001b[1;33m(\u001b[0m\u001b[0mtrack_dir\u001b[0m\u001b[1;33m,\u001b[0m \u001b[1;34m'metadata.yaml'\u001b[0m\u001b[1;33m)\u001b[0m\u001b[1;33m\u001b[0m\u001b[1;33m\u001b[0m\u001b[0m\n",
      "\u001b[1;31mFileNotFoundError\u001b[0m: [WinError 3] The system cannot find the path specified: 'slakh2100_flac_redux\\\\valid'"
     ]
    }
   ],
   "metadata": {}
  },
  {
   "cell_type": "code",
   "execution_count": 1,
   "source": [
    "import os\r\n",
    "import soundfile as sf\r\n",
    "\r\n",
    "def check_audio_durations(base_dir, splits, seq_dur):\r\n",
    "    \"\"\"\r\n",
    "    Check audio durations across dataset splits\r\n",
    "    \"\"\"\r\n",
    "    short_files = []\r\n",
    "    \r\n",
    "    for split in splits:\r\n",
    "        split_path = os.path.join(base_dir, split)\r\n",
    "        if not os.path.exists(split_path):\r\n",
    "            print(f\"⚠️ Split folder {split} not found\")\r\n",
    "            continue\r\n",
    "            \r\n",
    "        print(f\"🔍 Checking {split} split...\")\r\n",
    "        \r\n",
    "        for track in os.listdir(split_path):\r\n",
    "            track_path = os.path.join(split_path, track)\r\n",
    "            mix_file = os.path.join(track_path, \"mix.flac\")\r\n",
    "            \r\n",
    "            if not os.path.exists(mix_file):\r\n",
    "                continue\r\n",
    "                \r\n",
    "            try:\r\n",
    "                info = sf.info(mix_file)\r\n",
    "                duration = info.duration\r\n",
    "                \r\n",
    "                if duration < seq_dur:\r\n",
    "                    short_files.append({\r\n",
    "                        'split': split,\r\n",
    "                        'track': track,\r\n",
    "                        'duration': duration\r\n",
    "                    })\r\n",
    "                    \r\n",
    "            except Exception as e:\r\n",
    "                print(f\"❌ Error processing {mix_file}: {str(e)}\")\r\n",
    "    \r\n",
    "    # Print summary\r\n",
    "    print(f\"\\n📊 Total tracks shorter than {seq_dur}s: {len(short_files)}\")\r\n",
    "    if short_files:\r\n",
    "        print(\"\\n🚨 Problematic tracks:\")\r\n",
    "        for file in short_files[:5]:  # Show first 5 examples\r\n",
    "            print(f\" - {file['split']}/{file['track']}: {file['duration']:.2f}s\")\r\n",
    "    \r\n",
    "    return len(short_files) == 0\r\n",
    "\r\n",
    "# Configuration (adjust these)\r\n",
    "BASE_DIR = \"slakh2100_flac_redux\"  # Or \"data\" if using the new structure\r\n",
    "SPLITS = [\"train\", \"valid\", \"test\"]\r\n",
    "SEQ_DUR = 6.0  # Your training sequence duration\r\n",
    "\r\n",
    "# Run the check\r\n",
    "all_ok = check_audio_durations(BASE_DIR, SPLITS, SEQ_DUR)\r\n",
    "\r\n",
    "if all_ok:\r\n",
    "    print(\"✅ All audio files meet the duration requirement!\")\r\n",
    "else:\r\n",
    "    print(\"\\n💡 Recommendation: Consider either:\")\r\n",
    "    print(\"- Using --seq-dur with a smaller value (current: {SEQ_DUR}s)\")\r\n",
    "    print(\"- Padding short files with silence\")\r\n",
    "    print(\"- Filtering out tracks shorter than {SEQ_DUR}s\")\r\n"
   ],
   "outputs": [
    {
     "output_type": "stream",
     "name": "stdout",
     "text": [
      "🔍 Checking train split...\n",
      "⚠️ Split folder valid not found\n",
      "🔍 Checking test split...\n",
      "\n",
      "📊 Total tracks shorter than 6.0s: 0\n",
      "✅ All audio files meet the duration requirement!\n"
     ]
    }
   ],
   "metadata": {}
  },
  {
   "cell_type": "code",
   "execution_count": 26,
   "source": [
    "import os\r\n",
    "import soundfile as sf\r\n",
    "import numpy as np\r\n",
    "from pathlib import Path\r\n",
    "\r\n",
    "base_dir = Path('data_slakh')\r\n",
    "splits = ['train', 'valid', 'test']\r\n",
    "\r\n",
    "converted_files = []\r\n",
    "\r\n",
    "for split in splits:\r\n",
    "    split_dir = base_dir / split\r\n",
    "    if not split_dir.exists():\r\n",
    "        continue\r\n",
    "    for track_dir in split_dir.iterdir():\r\n",
    "        if not track_dir.is_dir():\r\n",
    "            continue\r\n",
    "        for fname in ['mix.flac', 'guitar.flac']:\r\n",
    "            fpath = track_dir / fname\r\n",
    "            if not fpath.exists():\r\n",
    "                continue\r\n",
    "            audio, sr = sf.read(fpath, always_2d=True)\r\n",
    "            if audio.shape[1] == 1:  # Correct check for mono\r\n",
    "                stereo_audio = np.repeat(audio, 2, axis=1)\r\n",
    "                sf.write(fpath, stereo_audio, sr)\r\n",
    "                converted_files.append(str(fpath))\r\n",
    "\r\n",
    "print(f\"Converted {len(converted_files)} mono files to stereo.\")\r\n",
    "if converted_files:\r\n",
    "    print(\"First few converted files:\", converted_files[:5])\r\n"
   ],
   "outputs": [
    {
     "output_type": "error",
     "ename": "KeyboardInterrupt",
     "evalue": "",
     "traceback": [
      "\u001b[1;31m---------------------------------------------------------------------------\u001b[0m",
      "\u001b[1;31mKeyboardInterrupt\u001b[0m                         Traceback (most recent call last)",
      "\u001b[1;32m~\\AppData\\Local\\Temp/ipykernel_28620/1397796124.py\u001b[0m in \u001b[0;36m<module>\u001b[1;34m\u001b[0m\n\u001b[0;32m     20\u001b[0m             \u001b[1;32mif\u001b[0m \u001b[1;32mnot\u001b[0m \u001b[0mfpath\u001b[0m\u001b[1;33m.\u001b[0m\u001b[0mexists\u001b[0m\u001b[1;33m(\u001b[0m\u001b[1;33m)\u001b[0m\u001b[1;33m:\u001b[0m\u001b[1;33m\u001b[0m\u001b[1;33m\u001b[0m\u001b[0m\n\u001b[0;32m     21\u001b[0m                 \u001b[1;32mcontinue\u001b[0m\u001b[1;33m\u001b[0m\u001b[1;33m\u001b[0m\u001b[0m\n\u001b[1;32m---> 22\u001b[1;33m             \u001b[0maudio\u001b[0m\u001b[1;33m,\u001b[0m \u001b[0msr\u001b[0m \u001b[1;33m=\u001b[0m \u001b[0msf\u001b[0m\u001b[1;33m.\u001b[0m\u001b[0mread\u001b[0m\u001b[1;33m(\u001b[0m\u001b[0mfpath\u001b[0m\u001b[1;33m,\u001b[0m \u001b[0malways_2d\u001b[0m\u001b[1;33m=\u001b[0m\u001b[1;32mTrue\u001b[0m\u001b[1;33m)\u001b[0m\u001b[1;33m\u001b[0m\u001b[1;33m\u001b[0m\u001b[0m\n\u001b[0m\u001b[0;32m     23\u001b[0m             \u001b[1;32mif\u001b[0m \u001b[0maudio\u001b[0m\u001b[1;33m.\u001b[0m\u001b[0mshape\u001b[0m\u001b[1;33m[\u001b[0m\u001b[1;36m1\u001b[0m\u001b[1;33m]\u001b[0m \u001b[1;33m==\u001b[0m \u001b[1;36m1\u001b[0m\u001b[1;33m:\u001b[0m  \u001b[1;31m# Correct check for mono\u001b[0m\u001b[1;33m\u001b[0m\u001b[1;33m\u001b[0m\u001b[0m\n\u001b[0;32m     24\u001b[0m                 \u001b[0mstereo_audio\u001b[0m \u001b[1;33m=\u001b[0m \u001b[0mnp\u001b[0m\u001b[1;33m.\u001b[0m\u001b[0mrepeat\u001b[0m\u001b[1;33m(\u001b[0m\u001b[0maudio\u001b[0m\u001b[1;33m,\u001b[0m \u001b[1;36m2\u001b[0m\u001b[1;33m,\u001b[0m \u001b[0maxis\u001b[0m\u001b[1;33m=\u001b[0m\u001b[1;36m1\u001b[0m\u001b[1;33m)\u001b[0m\u001b[1;33m\u001b[0m\u001b[1;33m\u001b[0m\u001b[0m\n",
      "\u001b[1;32m~\\AppData\\Local\\Programs\\Python\\Python39\\lib\\site-packages\\soundfile.py\u001b[0m in \u001b[0;36mread\u001b[1;34m(file, frames, start, stop, dtype, always_2d, fill_value, out, samplerate, channels, format, subtype, endian, closefd)\u001b[0m\n\u001b[0;32m    306\u001b[0m                    subtype, endian, format, closefd) as f:\n\u001b[0;32m    307\u001b[0m         \u001b[0mframes\u001b[0m \u001b[1;33m=\u001b[0m \u001b[0mf\u001b[0m\u001b[1;33m.\u001b[0m\u001b[0m_prepare_read\u001b[0m\u001b[1;33m(\u001b[0m\u001b[0mstart\u001b[0m\u001b[1;33m,\u001b[0m \u001b[0mstop\u001b[0m\u001b[1;33m,\u001b[0m \u001b[0mframes\u001b[0m\u001b[1;33m)\u001b[0m\u001b[1;33m\u001b[0m\u001b[1;33m\u001b[0m\u001b[0m\n\u001b[1;32m--> 308\u001b[1;33m         \u001b[0mdata\u001b[0m \u001b[1;33m=\u001b[0m \u001b[0mf\u001b[0m\u001b[1;33m.\u001b[0m\u001b[0mread\u001b[0m\u001b[1;33m(\u001b[0m\u001b[0mframes\u001b[0m\u001b[1;33m,\u001b[0m \u001b[0mdtype\u001b[0m\u001b[1;33m,\u001b[0m \u001b[0malways_2d\u001b[0m\u001b[1;33m,\u001b[0m \u001b[0mfill_value\u001b[0m\u001b[1;33m,\u001b[0m \u001b[0mout\u001b[0m\u001b[1;33m)\u001b[0m\u001b[1;33m\u001b[0m\u001b[1;33m\u001b[0m\u001b[0m\n\u001b[0m\u001b[0;32m    309\u001b[0m     \u001b[1;32mreturn\u001b[0m \u001b[0mdata\u001b[0m\u001b[1;33m,\u001b[0m \u001b[0mf\u001b[0m\u001b[1;33m.\u001b[0m\u001b[0msamplerate\u001b[0m\u001b[1;33m\u001b[0m\u001b[1;33m\u001b[0m\u001b[0m\n\u001b[0;32m    310\u001b[0m \u001b[1;33m\u001b[0m\u001b[0m\n",
      "\u001b[1;32m~\\AppData\\Local\\Programs\\Python\\Python39\\lib\\site-packages\\soundfile.py\u001b[0m in \u001b[0;36mread\u001b[1;34m(self, frames, dtype, always_2d, fill_value, out)\u001b[0m\n\u001b[0;32m    940\u001b[0m             \u001b[1;32mif\u001b[0m \u001b[0mframes\u001b[0m \u001b[1;33m<\u001b[0m \u001b[1;36m0\u001b[0m \u001b[1;32mor\u001b[0m \u001b[0mframes\u001b[0m \u001b[1;33m>\u001b[0m \u001b[0mlen\u001b[0m\u001b[1;33m(\u001b[0m\u001b[0mout\u001b[0m\u001b[1;33m)\u001b[0m\u001b[1;33m:\u001b[0m\u001b[1;33m\u001b[0m\u001b[1;33m\u001b[0m\u001b[0m\n\u001b[0;32m    941\u001b[0m                 \u001b[0mframes\u001b[0m \u001b[1;33m=\u001b[0m \u001b[0mlen\u001b[0m\u001b[1;33m(\u001b[0m\u001b[0mout\u001b[0m\u001b[1;33m)\u001b[0m\u001b[1;33m\u001b[0m\u001b[1;33m\u001b[0m\u001b[0m\n\u001b[1;32m--> 942\u001b[1;33m         \u001b[0mframes\u001b[0m \u001b[1;33m=\u001b[0m \u001b[0mself\u001b[0m\u001b[1;33m.\u001b[0m\u001b[0m_array_io\u001b[0m\u001b[1;33m(\u001b[0m\u001b[1;34m'read'\u001b[0m\u001b[1;33m,\u001b[0m \u001b[0mout\u001b[0m\u001b[1;33m,\u001b[0m \u001b[0mframes\u001b[0m\u001b[1;33m)\u001b[0m\u001b[1;33m\u001b[0m\u001b[1;33m\u001b[0m\u001b[0m\n\u001b[0m\u001b[0;32m    943\u001b[0m         \u001b[1;32mif\u001b[0m \u001b[0mlen\u001b[0m\u001b[1;33m(\u001b[0m\u001b[0mout\u001b[0m\u001b[1;33m)\u001b[0m \u001b[1;33m>\u001b[0m \u001b[0mframes\u001b[0m\u001b[1;33m:\u001b[0m\u001b[1;33m\u001b[0m\u001b[1;33m\u001b[0m\u001b[0m\n\u001b[0;32m    944\u001b[0m             \u001b[1;32mif\u001b[0m \u001b[0mfill_value\u001b[0m \u001b[1;32mis\u001b[0m \u001b[1;32mNone\u001b[0m\u001b[1;33m:\u001b[0m\u001b[1;33m\u001b[0m\u001b[1;33m\u001b[0m\u001b[0m\n",
      "\u001b[1;32m~\\AppData\\Local\\Programs\\Python\\Python39\\lib\\site-packages\\soundfile.py\u001b[0m in \u001b[0;36m_array_io\u001b[1;34m(self, action, array, frames)\u001b[0m\n\u001b[0;32m   1392\u001b[0m         \u001b[1;32massert\u001b[0m \u001b[0marray\u001b[0m\u001b[1;33m.\u001b[0m\u001b[0mdtype\u001b[0m\u001b[1;33m.\u001b[0m\u001b[0mitemsize\u001b[0m \u001b[1;33m==\u001b[0m \u001b[0m_ffi\u001b[0m\u001b[1;33m.\u001b[0m\u001b[0msizeof\u001b[0m\u001b[1;33m(\u001b[0m\u001b[0mctype\u001b[0m\u001b[1;33m)\u001b[0m\u001b[1;33m\u001b[0m\u001b[1;33m\u001b[0m\u001b[0m\n\u001b[0;32m   1393\u001b[0m         \u001b[0mcdata\u001b[0m \u001b[1;33m=\u001b[0m \u001b[0m_ffi\u001b[0m\u001b[1;33m.\u001b[0m\u001b[0mcast\u001b[0m\u001b[1;33m(\u001b[0m\u001b[0mctype\u001b[0m \u001b[1;33m+\u001b[0m \u001b[1;34m'*'\u001b[0m\u001b[1;33m,\u001b[0m \u001b[0marray\u001b[0m\u001b[1;33m.\u001b[0m\u001b[0m__array_interface__\u001b[0m\u001b[1;33m[\u001b[0m\u001b[1;34m'data'\u001b[0m\u001b[1;33m]\u001b[0m\u001b[1;33m[\u001b[0m\u001b[1;36m0\u001b[0m\u001b[1;33m]\u001b[0m\u001b[1;33m)\u001b[0m\u001b[1;33m\u001b[0m\u001b[1;33m\u001b[0m\u001b[0m\n\u001b[1;32m-> 1394\u001b[1;33m         \u001b[1;32mreturn\u001b[0m \u001b[0mself\u001b[0m\u001b[1;33m.\u001b[0m\u001b[0m_cdata_io\u001b[0m\u001b[1;33m(\u001b[0m\u001b[0maction\u001b[0m\u001b[1;33m,\u001b[0m \u001b[0mcdata\u001b[0m\u001b[1;33m,\u001b[0m \u001b[0mctype\u001b[0m\u001b[1;33m,\u001b[0m \u001b[0mframes\u001b[0m\u001b[1;33m)\u001b[0m\u001b[1;33m\u001b[0m\u001b[1;33m\u001b[0m\u001b[0m\n\u001b[0m\u001b[0;32m   1395\u001b[0m \u001b[1;33m\u001b[0m\u001b[0m\n\u001b[0;32m   1396\u001b[0m     \u001b[1;32mdef\u001b[0m \u001b[0m_cdata_io\u001b[0m\u001b[1;33m(\u001b[0m\u001b[0mself\u001b[0m\u001b[1;33m,\u001b[0m \u001b[0maction\u001b[0m\u001b[1;33m,\u001b[0m \u001b[0mdata\u001b[0m\u001b[1;33m,\u001b[0m \u001b[0mctype\u001b[0m\u001b[1;33m,\u001b[0m \u001b[0mframes\u001b[0m\u001b[1;33m)\u001b[0m\u001b[1;33m:\u001b[0m\u001b[1;33m\u001b[0m\u001b[1;33m\u001b[0m\u001b[0m\n",
      "\u001b[1;32m~\\AppData\\Local\\Programs\\Python\\Python39\\lib\\site-packages\\soundfile.py\u001b[0m in \u001b[0;36m_cdata_io\u001b[1;34m(self, action, data, ctype, frames)\u001b[0m\n\u001b[0;32m   1401\u001b[0m             \u001b[0mcurr\u001b[0m \u001b[1;33m=\u001b[0m \u001b[0mself\u001b[0m\u001b[1;33m.\u001b[0m\u001b[0mtell\u001b[0m\u001b[1;33m(\u001b[0m\u001b[1;33m)\u001b[0m\u001b[1;33m\u001b[0m\u001b[1;33m\u001b[0m\u001b[0m\n\u001b[0;32m   1402\u001b[0m         \u001b[0mfunc\u001b[0m \u001b[1;33m=\u001b[0m \u001b[0mgetattr\u001b[0m\u001b[1;33m(\u001b[0m\u001b[0m_snd\u001b[0m\u001b[1;33m,\u001b[0m \u001b[1;34m'sf_'\u001b[0m \u001b[1;33m+\u001b[0m \u001b[0maction\u001b[0m \u001b[1;33m+\u001b[0m \u001b[1;34m'f_'\u001b[0m \u001b[1;33m+\u001b[0m \u001b[0mctype\u001b[0m\u001b[1;33m)\u001b[0m\u001b[1;33m\u001b[0m\u001b[1;33m\u001b[0m\u001b[0m\n\u001b[1;32m-> 1403\u001b[1;33m         \u001b[0mframes\u001b[0m \u001b[1;33m=\u001b[0m \u001b[0mfunc\u001b[0m\u001b[1;33m(\u001b[0m\u001b[0mself\u001b[0m\u001b[1;33m.\u001b[0m\u001b[0m_file\u001b[0m\u001b[1;33m,\u001b[0m \u001b[0mdata\u001b[0m\u001b[1;33m,\u001b[0m \u001b[0mframes\u001b[0m\u001b[1;33m)\u001b[0m\u001b[1;33m\u001b[0m\u001b[1;33m\u001b[0m\u001b[0m\n\u001b[0m\u001b[0;32m   1404\u001b[0m         \u001b[0m_error_check\u001b[0m\u001b[1;33m(\u001b[0m\u001b[0mself\u001b[0m\u001b[1;33m.\u001b[0m\u001b[0m_errorcode\u001b[0m\u001b[1;33m)\u001b[0m\u001b[1;33m\u001b[0m\u001b[1;33m\u001b[0m\u001b[0m\n\u001b[0;32m   1405\u001b[0m         \u001b[1;32mif\u001b[0m \u001b[0mself\u001b[0m\u001b[1;33m.\u001b[0m\u001b[0mseekable\u001b[0m\u001b[1;33m(\u001b[0m\u001b[1;33m)\u001b[0m\u001b[1;33m:\u001b[0m\u001b[1;33m\u001b[0m\u001b[1;33m\u001b[0m\u001b[0m\n",
      "\u001b[1;31mKeyboardInterrupt\u001b[0m: "
     ]
    }
   ],
   "metadata": {}
  },
  {
   "cell_type": "code",
   "execution_count": 3,
   "source": [
    "import torch\r\n",
    "import torchaudio\r\n",
    "import numpy as np\r\n",
    "import soundfile as sf\r\n",
    "from openunmix import utils, predict\r\n",
    "\r\n",
    "# 1. Load audio\r\n",
    "input_path = \"separated\\htdemucs\\Avicii-WakeMeUp\\other.wav\"\r\n",
    "sr = 44100  # Open-Unmix default sample rate\r\n",
    "audio, orig_sr = torchaudio.load(input_path)\r\n",
    "\r\n",
    "# Resample if needed\r\n",
    "if orig_sr != sr:\r\n",
    "    resampler = torchaudio.transforms.Resample(orig_sr, sr)\r\n",
    "    audio = resampler(audio)\r\n",
    "\r\n",
    "# Convert to stereo if mono\r\n",
    "if audio.shape[0] == 1:\r\n",
    "    audio = torch.cat([audio, audio], dim=0)\r\n",
    "\r\n",
    "# Convert to PyTorch tensor and move to the correct device\r\n",
    "device = \"cuda\" if torch.cuda.is_available() else \"cpu\"\r\n",
    "audio_tensor = audio.to(device)\r\n",
    "\r\n",
    "# 2. Ensure correct model paths\r\n",
    "model_dir = \"open-unmix\"  # Path to your trained model (contains guitar.pth and separator.json)\r\n",
    "model_name = \"guitar\"     # The target you trained for\r\n",
    "\r\n",
    "# 3. Load separator model\r\n",
    "print(f\"Loading separator for model: {model_name} on {device}\")\r\n",
    "separator = utils.load_separator(\r\n",
    "    model_str_or_path=model_dir,\r\n",
    "    targets=[model_name],\r\n",
    "    niter=1,\r\n",
    "    residual=True,  # Enable residual to avoid single target issues\r\n",
    "    wiener_win_len=300,\r\n",
    "    device=device,\r\n",
    "    pretrained=True,\r\n",
    "    filterbank=\"torch\",\r\n",
    ")\r\n",
    "\r\n",
    "separator.to(device).freeze()\r\n",
    "print(f\"Separator loaded successfully!\")\r\n",
    "\r\n",
    "# 4. Run model on the mixture\r\n",
    "estimates = predict.separate(\r\n",
    "    audio=audio_tensor,\r\n",
    "    rate=sr,\r\n",
    "    separator=separator,\r\n",
    "    targets=[model_name],\r\n",
    ")\r\n",
    "\r\n",
    "# 5. Check if output exists\r\n",
    "if model_name not in estimates:\r\n",
    "    print(f\"No '{model_name}' estimate was generated!\")\r\n",
    "else:\r\n",
    "    # Extract separated guitar\r\n",
    "    guitar_estimate = np.squeeze(estimates[model_name].cpu().numpy())\r\n",
    "\r\n",
    "    # Save the separated guitar\r\n",
    "    output_path = \"Avicii-WakeMeUp_guitar_estimate_demucs.wav\"\r\n",
    "    sf.write(output_path, guitar_estimate.T, sr)\r\n",
    "\r\n",
    "    print(f\"Separated guitar saved at: {output_path}\")\r\n",
    "\r\n"
   ],
   "outputs": [
    {
     "output_type": "stream",
     "name": "stdout",
     "text": [
      "Loading separator for model: guitar on cuda\n",
      "Separator loaded successfully!\n",
      "Separated guitar saved at: Avicii-WakeMeUp_guitar_estimate.wav\n"
     ]
    }
   ],
   "metadata": {}
  },
  {
   "cell_type": "code",
   "execution_count": 2,
   "source": [
    "import demucs.separate\r\n",
    "import shlex\r\n",
    "import os\r\n",
    "\r\n",
    "def run_demucs_other(audio_path):\r\n",
    "    # Use spaces and quotes to handle long filenames\r\n",
    "    args = shlex.split(f'--two-stems other \"{audio_path}\"')\r\n",
    "    demucs.separate.main(args)\r\n",
    "    print(\"Demucs separation complete. Check the 'separated' folder.\")\r\n",
    "\r\n",
    "# Example usage:\r\n",
    "run_demucs_other(\"Avicii-WakeMeUp_guitar_estimate.wav\")\r\n"
   ],
   "outputs": [
    {
     "output_type": "stream",
     "name": "stdout",
     "text": [
      "\u001b[1mImportant: the default model was recently changed to `htdemucs`\u001b[0m the latest Hybrid Transformer Demucs model. In some cases, this model can actually perform worse than previous models. To get back the old default model use `-n mdx_extra_q`.\n",
      "Selected model is a bag of 1 models. You will see that many progress bars per track.\n",
      "Separated tracks will be stored in D:\\FinalThesis\\separated\\htdemucs\n",
      "Separating track Avicii-WakeMeUp_guitar_estimate.wav\n"
     ]
    },
    {
     "output_type": "stream",
     "name": "stderr",
     "text": [
      "100%|██████████████████████████████████████████████████████████████████████| 274.95/274.95 [00:17<00:00, 16.05seconds/s]\n"
     ]
    },
    {
     "output_type": "stream",
     "name": "stdout",
     "text": [
      "Demucs separation complete. Check the 'separated' folder.\n"
     ]
    }
   ],
   "metadata": {}
  }
 ],
 "metadata": {
  "orig_nbformat": 4,
  "language_info": {
   "name": "python",
   "version": "3.9.0",
   "mimetype": "text/x-python",
   "codemirror_mode": {
    "name": "ipython",
    "version": 3
   },
   "pygments_lexer": "ipython3",
   "nbconvert_exporter": "python",
   "file_extension": ".py"
  },
  "kernelspec": {
   "name": "python3",
   "display_name": "Python 3.9.0 64-bit"
  },
  "interpreter": {
   "hash": "9c61d083b7a8947575567776b2675d960c6c38e3878ac6ff28a22fd4d1b1bdcf"
  }
 },
 "nbformat": 4,
 "nbformat_minor": 2
}